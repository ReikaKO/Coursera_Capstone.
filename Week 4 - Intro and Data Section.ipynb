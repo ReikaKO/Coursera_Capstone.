{
 "cells": [
  {
   "cell_type": "markdown",
   "metadata": {},
   "source": [
    "## Introduction"
   ]
  },
  {
   "cell_type": "markdown",
   "metadata": {},
   "source": [
    "*Background:*\n",
    "Although HongKong had been doing well for some time at supressing the spread of the virus, currently HongKong is facing its 4th wave, with several new restrictions being put in place. With the daily infection rate being in the high double digets (considered high for Hong Kong standards) many have experianced close calls of friends of friends or collegues testing positive for the virus.\n",
    "\n",
    "Although vaccinations are on the way, the likelyhood of catching covid may still pop up on people's minds when considering where to rent. "
   ]
  },
  {
   "cell_type": "markdown",
   "metadata": {},
   "source": [
    "*Target audiance*: Those looking to rent a house in HongKong / Those looking to leave the house to chill."
   ]
  },
  {
   "cell_type": "markdown",
   "metadata": {},
   "source": [
    "*The Problem/solution*: Which neighbourhood of hongkong is the safest to live in / spend time in? \n",
    "This project aims to divide the different neighbourhoods of Hongkong in to different clusters accodring to covid safety as well as the genreal livability of the neighbourhood in terms of available venues. \n",
    "\n",
    "Although the goverment currently has a live map which gives information on cases and their locations in hongkong, clustering and giving these neighborhoods ratings would be a more visual way for people to make informed decisions when considering moving as well as in their day to day life."
   ]
  },
  {
   "cell_type": "markdown",
   "metadata": {},
   "source": [
    "## Data"
   ]
  },
  {
   "cell_type": "markdown",
   "metadata": {},
   "source": [
    "1. Hong Kong Covid data [CSV files]\n",
    "    <https://data.gov.hk/en-data/dataset/hk-dh-chpsebcddr-novel-infectious-agent>\n",
    "Hong Kong has alot of data on Covid-19 cases, these csv files will be explored and combined in to one data frame.\n",
    "    - \"Details of probable/confirmed cases of COVID-19 infection in Hong Kong (English)\"\n",
    "    - \"Residential buildings in which probable/confirmed cases have resided in the past 14 days or non-residential building with 2/ or more probable/confirmed cases in the past 14 days (English)\"\n",
    "    - \"Latest situation of reported cases of COVID-19 in Hong Kong (English)\"\n",
    " \n",
    "2. Location data:\n",
    "This report will use the different MTR stations as \"neighbourhoods\" that people could move to. This information will be scrapped from whikipedia, then Geopy will be used to gain the location's latitude and longitude\n",
    "List of MTR stations from whikipedia to scrape <https://en.wikipedia.org/wiki/List_of_MTR_stations>\n",
    "    use Geopy to get latitude and longitude data <https://towardsdatascience.com/geocode-with-python-161ec1e62b89>\n",
    "    \n",
    "3. Venues in each reigon of Hong Kong: Foursquare\n",
    "This information will be used to gather information about what kind of venues are available in the neighbourhoods to give context in to how liveable/ \"Fun\" an area is based on frequency of venues.\n"
   ]
  },
  {
   "cell_type": "code",
   "execution_count": null,
   "metadata": {},
   "outputs": [],
   "source": []
  }
 ],
 "metadata": {
  "kernelspec": {
   "display_name": "Python 3",
   "language": "python",
   "name": "python3"
  },
  "language_info": {
   "codemirror_mode": {
    "name": "ipython",
    "version": 3
   },
   "file_extension": ".py",
   "mimetype": "text/x-python",
   "name": "python",
   "nbconvert_exporter": "python",
   "pygments_lexer": "ipython3",
   "version": "3.8.3"
  }
 },
 "nbformat": 4,
 "nbformat_minor": 4
}
